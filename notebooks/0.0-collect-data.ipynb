{
 "cells": [
  {
   "attachments": {},
   "cell_type": "markdown",
   "metadata": {},
   "source": [
    "### Imports"
   ]
  },
  {
   "cell_type": "code",
   "execution_count": 31,
   "metadata": {},
   "outputs": [],
   "source": [
    "import re\n",
    "import requests\n",
    "from bs4 import BeautifulSoup as bs\n",
    "import pandas as pd\n",
    "import numpy as np\n",
    "import recomendaciones_escritoras.data.load as load"
   ]
  },
  {
   "attachments": {},
   "cell_type": "markdown",
   "metadata": {},
   "source": [
    "### Load data"
   ]
  },
  {
   "cell_type": "code",
   "execution_count": 32,
   "metadata": {},
   "outputs": [],
   "source": [
    "escritoras_wiki = load.escritoras_wiki\n",
    "data_processed = load.data_processed"
   ]
  },
  {
   "attachments": {},
   "cell_type": "markdown",
   "metadata": {},
   "source": [
    "### Read data"
   ]
  },
  {
   "cell_type": "code",
   "execution_count": 45,
   "metadata": {},
   "outputs": [],
   "source": [
    "df = pd.read_csv(escritoras_wiki)\n",
    "nombres = df['Nombre'].to_list()"
   ]
  },
  {
   "attachments": {},
   "cell_type": "markdown",
   "metadata": {},
   "source": [
    "### Scrape data"
   ]
  },
  {
   "cell_type": "code",
   "execution_count": 46,
   "metadata": {},
   "outputs": [],
   "source": [
    "ids = []\n",
    "\n",
    "for i in range(len(nombres)):\n",
    "\n",
    "    params = {\n",
    "    'utf8': '✓',\n",
    "    'q': f'{nombres[i]}',\n",
    "    'search_type': 'books',\n",
    "    'search[field]': 'author'\n",
    "    }\n",
    "\n",
    "    response = requests.get('https://www.goodreads.com/search', params=params)\n",
    "\n",
    "    # Return content of the response\n",
    "    html = response.text\n",
    "\n",
    "    # Parse html\n",
    "    soup = bs(html, 'html.parser')\n",
    "    \n",
    "    try:\n",
    "\n",
    "        # Look for <a> tags inside <div> tag\n",
    "        results = [div.find('a', attrs={'class':'authorName'}) for div in soup.find_all('div', attrs={'class':'authorName__container'})]\n",
    "\n",
    "        # Get first element from list of urls\n",
    "        url_id = results[0].get('href')\n",
    "\n",
    "        # Match author id from url\n",
    "        author_id = re.findall(r'(\\d+)', url_id)\n",
    "\n",
    "        # Append value to list\n",
    "        ids.append(author_id[0])\n",
    "    \n",
    "    except Exception:\n",
    "        ids.append(np.nan)"
   ]
  },
  {
   "attachments": {},
   "cell_type": "markdown",
   "metadata": {},
   "source": [
    "### Process data"
   ]
  },
  {
   "cell_type": "code",
   "execution_count": 57,
   "metadata": {},
   "outputs": [
    {
     "data": {
      "text/html": [
       "<div>\n",
       "<style scoped>\n",
       "    .dataframe tbody tr th:only-of-type {\n",
       "        vertical-align: middle;\n",
       "    }\n",
       "\n",
       "    .dataframe tbody tr th {\n",
       "        vertical-align: top;\n",
       "    }\n",
       "\n",
       "    .dataframe thead th {\n",
       "        text-align: right;\n",
       "    }\n",
       "</style>\n",
       "<table border=\"1\" class=\"dataframe\">\n",
       "  <thead>\n",
       "    <tr style=\"text-align: right;\">\n",
       "      <th></th>\n",
       "      <th>nombre</th>\n",
       "      <th>id</th>\n",
       "    </tr>\n",
       "  </thead>\n",
       "  <tbody>\n",
       "    <tr>\n",
       "      <th>0</th>\n",
       "      <td>Ophir Alviárez</td>\n",
       "      <td>24082699</td>\n",
       "    </tr>\n",
       "    <tr>\n",
       "      <th>1</th>\n",
       "      <td>Raiza Andrade</td>\n",
       "      <td>6102809</td>\n",
       "    </tr>\n",
       "    <tr>\n",
       "      <th>2</th>\n",
       "      <td>Laura Antillano</td>\n",
       "      <td>1482690</td>\n",
       "    </tr>\n",
       "    <tr>\n",
       "      <th>3</th>\n",
       "      <td>Ana Rosa Angarita Trujillo</td>\n",
       "      <td>24282274</td>\n",
       "    </tr>\n",
       "    <tr>\n",
       "      <th>4</th>\n",
       "      <td>Vivian Abenshushan</td>\n",
       "      <td>2347931</td>\n",
       "    </tr>\n",
       "    <tr>\n",
       "      <th>...</th>\n",
       "      <td>...</td>\n",
       "      <td>...</td>\n",
       "    </tr>\n",
       "    <tr>\n",
       "      <th>1111</th>\n",
       "      <td>Marta Susana Prieto</td>\n",
       "      <td>16379713</td>\n",
       "    </tr>\n",
       "    <tr>\n",
       "      <th>1112</th>\n",
       "      <td>Clementina Suárez</td>\n",
       "      <td>16965022</td>\n",
       "    </tr>\n",
       "    <tr>\n",
       "      <th>1113</th>\n",
       "      <td>Venus Ixchel Mejía</td>\n",
       "      <td>18869416</td>\n",
       "    </tr>\n",
       "    <tr>\n",
       "      <th>1114</th>\n",
       "      <td>Laura Acero</td>\n",
       "      <td>18937635</td>\n",
       "    </tr>\n",
       "    <tr>\n",
       "      <th>1115</th>\n",
       "      <td>Velia Vidal</td>\n",
       "      <td>20783099</td>\n",
       "    </tr>\n",
       "  </tbody>\n",
       "</table>\n",
       "<p>1116 rows × 2 columns</p>\n",
       "</div>"
      ],
      "text/plain": [
       "                          nombre        id\n",
       "0                 Ophir Alviárez  24082699\n",
       "1                  Raiza Andrade   6102809\n",
       "2                Laura Antillano   1482690\n",
       "3     Ana Rosa Angarita Trujillo  24282274\n",
       "4             Vivian Abenshushan   2347931\n",
       "...                          ...       ...\n",
       "1111         Marta Susana Prieto  16379713\n",
       "1112           Clementina Suárez  16965022\n",
       "1113          Venus Ixchel Mejía  18869416\n",
       "1114                 Laura Acero  18937635\n",
       "1115                 Velia Vidal  20783099\n",
       "\n",
       "[1116 rows x 2 columns]"
      ]
     },
     "execution_count": 57,
     "metadata": {},
     "output_type": "execute_result"
    }
   ],
   "source": [
    "# Create dataframe from lists\n",
    "df_ids = pd.DataFrame({'nombre': nombres, 'id': ids}, dtype=str)\n",
    "\n",
    "df_ids"
   ]
  },
  {
   "attachments": {},
   "cell_type": "markdown",
   "metadata": {},
   "source": [
    "### Export data"
   ]
  },
  {
   "cell_type": "code",
   "execution_count": 56,
   "metadata": {},
   "outputs": [],
   "source": [
    "# Sabe dataframe as csv\n",
    "df_ids.to_csv(f'{data_processed}/goodreads_escritoras.csv', index=False)"
   ]
  }
 ],
 "metadata": {
  "kernelspec": {
   "display_name": "recomendaciones_escritoras-VtlOqYSf",
   "language": "python",
   "name": "python3"
  },
  "language_info": {
   "codemirror_mode": {
    "name": "ipython",
    "version": 3
   },
   "file_extension": ".py",
   "mimetype": "text/x-python",
   "name": "python",
   "nbconvert_exporter": "python",
   "pygments_lexer": "ipython3",
   "version": "3.8.10"
  },
  "orig_nbformat": 4
 },
 "nbformat": 4,
 "nbformat_minor": 2
}
