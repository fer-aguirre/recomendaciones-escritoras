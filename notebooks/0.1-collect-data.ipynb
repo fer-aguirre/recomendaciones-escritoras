{
 "cells": [
  {
   "attachments": {},
   "cell_type": "markdown",
   "metadata": {},
   "source": [
    "### Imports"
   ]
  },
  {
   "cell_type": "code",
   "execution_count": 1,
   "metadata": {},
   "outputs": [],
   "source": [
    "import requests\n",
    "from bs4 import BeautifulSoup as bs\n",
    "import pandas as pd\n",
    "import numpy as np\n",
    "import recomendaciones_escritoras.data.load as load"
   ]
  },
  {
   "attachments": {},
   "cell_type": "markdown",
   "metadata": {},
   "source": [
    "### Load data"
   ]
  },
  {
   "cell_type": "code",
   "execution_count": 2,
   "metadata": {},
   "outputs": [],
   "source": [
    "goodreads_escritoras = load.goodreads_escritoras\n",
    "data_processed = load.data_processed"
   ]
  },
  {
   "attachments": {},
   "cell_type": "markdown",
   "metadata": {},
   "source": [
    "### Read data"
   ]
  },
  {
   "cell_type": "code",
   "execution_count": 4,
   "metadata": {},
   "outputs": [],
   "source": [
    "df = pd.read_csv(goodreads_escritoras)\n",
    "df = df.head(2)\n",
    "ids = df['id'].to_list()"
   ]
  },
  {
   "attachments": {},
   "cell_type": "markdown",
   "metadata": {},
   "source": [
    "### Scrape data"
   ]
  },
  {
   "cell_type": "code",
   "execution_count": 5,
   "metadata": {},
   "outputs": [],
   "source": [
    "books = []\n",
    "\n",
    "for i in range(len(ids)):\n",
    "\n",
    "    response = requests.get(f'https://www.goodreads.com/author/list/{ids[i]}?page=1&per_page=100')\n",
    "\n",
    "    # Return content of the response\n",
    "    html = response.text\n",
    "    # Parse html\n",
    "    soup = bs(html, 'html.parser')\n",
    "\n",
    "    # Look for <a> tags inside <tr> tag\n",
    "    results = [tr.find('a', attrs={'class':'bookTitle'}) for tr in soup.find_all('tr')]\n",
    "\n",
    "    # Extract 'href' from <a> tag and build a link\n",
    "    urls = ['https://www.goodreads.com' + i.get(\"href\") for i in results]\n",
    "\n",
    "    books.append(urls)"
   ]
  },
  {
   "cell_type": "code",
   "execution_count": 6,
   "metadata": {},
   "outputs": [
    {
     "data": {
      "text/plain": [
       "[['https://www.goodreads.com/book/show/79731294-ordal-a-o-la-pasi-n-abreviada'],\n",
       " ['https://www.goodreads.com/book/show/22193298-educacion-y-complejidad']]"
      ]
     },
     "execution_count": 6,
     "metadata": {},
     "output_type": "execute_result"
    }
   ],
   "source": [
    "books"
   ]
  }
 ],
 "metadata": {
  "kernelspec": {
   "display_name": "recomendaciones_escritoras-VtlOqYSf",
   "language": "python",
   "name": "python3"
  },
  "language_info": {
   "codemirror_mode": {
    "name": "ipython",
    "version": 3
   },
   "file_extension": ".py",
   "mimetype": "text/x-python",
   "name": "python",
   "nbconvert_exporter": "python",
   "pygments_lexer": "ipython3",
   "version": "3.8.10"
  },
  "orig_nbformat": 4
 },
 "nbformat": 4,
 "nbformat_minor": 2
}
